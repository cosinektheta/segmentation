{
 "cells": [
  {
   "cell_type": "markdown",
   "metadata": {},
   "source": [
    "# Cohort Analysis and Customer Segmentation of E-Commerce Data\n",
    "\n",
    "The dataset used here is e-commerce data available on [Kaggle](https://www.kaggle.com/carrie1/ecommerce-data/home) and on the [UCI Machine Learning Repository](http://archive.ics.uci.edu/ml/index.php). The data consists of transactions from 2010-2011 of online retail by a UK company. The company sells gifts with the consumers being predominately wholesalers. \n",
    "\n",
    "\n",
    "I will be applying the tools and techniques I have learned at DataCamp ([Word Frequency in Moby Dick](https://projects.datacamp.com/projects/38) project and the Karolis Urbonas's [Customer Segmentation in Python](https://www.datacamp.com/courses/customer-segmentation-in-python) course.) The last two sections will feature code presented in the Karolis Urbonas [Customer Segmentation in Python](https://www.datacamp.com/courses/customer-segmentation-in-python)  course.\n",
    "\n",
    "This notebook is split into 3 sections:\n",
    "1. Exploratory Data Analysis\n",
    "2. Cohort Analysis: Retention\n",
    "3. Customer Segmentation using K-Means\n",
    "\n",
    "For each section, the insights (english) are at the beginning, followed by the code used to obtain those insights.\n",
    "\n",
    "Let's take a look at the data!"
   ]
  },
  {
   "cell_type": "code",
   "execution_count": 1,
   "metadata": {},
   "outputs": [],
   "source": [
    "%matplotlib inline\n",
    "#import packages\n",
    "import matplotlib.pyplot as plt\n",
    "import numpy as np\n",
    "import pandas as pd\n",
    "import seaborn as sns\n",
    "from datetime import datetime\n",
    "import nltk\n",
    "from nltk.corpus import stopwords\n",
    "from sklearn.preprocessing import StandardScaler\n",
    "from sklearn.cluster import KMeans"
   ]
  },
  {
   "cell_type": "code",
   "execution_count": 2,
   "metadata": {},
   "outputs": [
    {
     "data": {
      "text/html": [
       "<div>\n",
       "<style scoped>\n",
       "    .dataframe tbody tr th:only-of-type {\n",
       "        vertical-align: middle;\n",
       "    }\n",
       "\n",
       "    .dataframe tbody tr th {\n",
       "        vertical-align: top;\n",
       "    }\n",
       "\n",
       "    .dataframe thead th {\n",
       "        text-align: right;\n",
       "    }\n",
       "</style>\n",
       "<table border=\"1\" class=\"dataframe\">\n",
       "  <thead>\n",
       "    <tr style=\"text-align: right;\">\n",
       "      <th></th>\n",
       "      <th>InvoiceNo</th>\n",
       "      <th>StockCode</th>\n",
       "      <th>Description</th>\n",
       "      <th>Quantity</th>\n",
       "      <th>InvoiceDate</th>\n",
       "      <th>UnitPrice</th>\n",
       "      <th>CustomerID</th>\n",
       "      <th>Country</th>\n",
       "    </tr>\n",
       "  </thead>\n",
       "  <tbody>\n",
       "    <tr>\n",
       "      <th>0</th>\n",
       "      <td>536365</td>\n",
       "      <td>85123A</td>\n",
       "      <td>WHITE HANGING HEART T-LIGHT HOLDER</td>\n",
       "      <td>6</td>\n",
       "      <td>12/1/2010 8:26</td>\n",
       "      <td>2.55</td>\n",
       "      <td>17850.0</td>\n",
       "      <td>United Kingdom</td>\n",
       "    </tr>\n",
       "    <tr>\n",
       "      <th>1</th>\n",
       "      <td>536365</td>\n",
       "      <td>71053</td>\n",
       "      <td>WHITE METAL LANTERN</td>\n",
       "      <td>6</td>\n",
       "      <td>12/1/2010 8:26</td>\n",
       "      <td>3.39</td>\n",
       "      <td>17850.0</td>\n",
       "      <td>United Kingdom</td>\n",
       "    </tr>\n",
       "    <tr>\n",
       "      <th>2</th>\n",
       "      <td>536365</td>\n",
       "      <td>84406B</td>\n",
       "      <td>CREAM CUPID HEARTS COAT HANGER</td>\n",
       "      <td>8</td>\n",
       "      <td>12/1/2010 8:26</td>\n",
       "      <td>2.75</td>\n",
       "      <td>17850.0</td>\n",
       "      <td>United Kingdom</td>\n",
       "    </tr>\n",
       "    <tr>\n",
       "      <th>3</th>\n",
       "      <td>536365</td>\n",
       "      <td>84029G</td>\n",
       "      <td>KNITTED UNION FLAG HOT WATER BOTTLE</td>\n",
       "      <td>6</td>\n",
       "      <td>12/1/2010 8:26</td>\n",
       "      <td>3.39</td>\n",
       "      <td>17850.0</td>\n",
       "      <td>United Kingdom</td>\n",
       "    </tr>\n",
       "    <tr>\n",
       "      <th>4</th>\n",
       "      <td>536365</td>\n",
       "      <td>84029E</td>\n",
       "      <td>RED WOOLLY HOTTIE WHITE HEART.</td>\n",
       "      <td>6</td>\n",
       "      <td>12/1/2010 8:26</td>\n",
       "      <td>3.39</td>\n",
       "      <td>17850.0</td>\n",
       "      <td>United Kingdom</td>\n",
       "    </tr>\n",
       "    <tr>\n",
       "      <th>5</th>\n",
       "      <td>536365</td>\n",
       "      <td>22752</td>\n",
       "      <td>SET 7 BABUSHKA NESTING BOXES</td>\n",
       "      <td>2</td>\n",
       "      <td>12/1/2010 8:26</td>\n",
       "      <td>7.65</td>\n",
       "      <td>17850.0</td>\n",
       "      <td>United Kingdom</td>\n",
       "    </tr>\n",
       "    <tr>\n",
       "      <th>6</th>\n",
       "      <td>536365</td>\n",
       "      <td>21730</td>\n",
       "      <td>GLASS STAR FROSTED T-LIGHT HOLDER</td>\n",
       "      <td>6</td>\n",
       "      <td>12/1/2010 8:26</td>\n",
       "      <td>4.25</td>\n",
       "      <td>17850.0</td>\n",
       "      <td>United Kingdom</td>\n",
       "    </tr>\n",
       "    <tr>\n",
       "      <th>7</th>\n",
       "      <td>536366</td>\n",
       "      <td>22633</td>\n",
       "      <td>HAND WARMER UNION JACK</td>\n",
       "      <td>6</td>\n",
       "      <td>12/1/2010 8:28</td>\n",
       "      <td>1.85</td>\n",
       "      <td>17850.0</td>\n",
       "      <td>United Kingdom</td>\n",
       "    </tr>\n",
       "    <tr>\n",
       "      <th>8</th>\n",
       "      <td>536366</td>\n",
       "      <td>22632</td>\n",
       "      <td>HAND WARMER RED POLKA DOT</td>\n",
       "      <td>6</td>\n",
       "      <td>12/1/2010 8:28</td>\n",
       "      <td>1.85</td>\n",
       "      <td>17850.0</td>\n",
       "      <td>United Kingdom</td>\n",
       "    </tr>\n",
       "    <tr>\n",
       "      <th>9</th>\n",
       "      <td>536367</td>\n",
       "      <td>84879</td>\n",
       "      <td>ASSORTED COLOUR BIRD ORNAMENT</td>\n",
       "      <td>32</td>\n",
       "      <td>12/1/2010 8:34</td>\n",
       "      <td>1.69</td>\n",
       "      <td>13047.0</td>\n",
       "      <td>United Kingdom</td>\n",
       "    </tr>\n",
       "  </tbody>\n",
       "</table>\n",
       "</div>"
      ],
      "text/plain": [
       "  InvoiceNo StockCode                          Description  Quantity  \\\n",
       "0    536365    85123A   WHITE HANGING HEART T-LIGHT HOLDER         6   \n",
       "1    536365     71053                  WHITE METAL LANTERN         6   \n",
       "2    536365    84406B       CREAM CUPID HEARTS COAT HANGER         8   \n",
       "3    536365    84029G  KNITTED UNION FLAG HOT WATER BOTTLE         6   \n",
       "4    536365    84029E       RED WOOLLY HOTTIE WHITE HEART.         6   \n",
       "5    536365     22752         SET 7 BABUSHKA NESTING BOXES         2   \n",
       "6    536365     21730    GLASS STAR FROSTED T-LIGHT HOLDER         6   \n",
       "7    536366     22633               HAND WARMER UNION JACK         6   \n",
       "8    536366     22632            HAND WARMER RED POLKA DOT         6   \n",
       "9    536367     84879        ASSORTED COLOUR BIRD ORNAMENT        32   \n",
       "\n",
       "      InvoiceDate  UnitPrice  CustomerID         Country  \n",
       "0  12/1/2010 8:26       2.55     17850.0  United Kingdom  \n",
       "1  12/1/2010 8:26       3.39     17850.0  United Kingdom  \n",
       "2  12/1/2010 8:26       2.75     17850.0  United Kingdom  \n",
       "3  12/1/2010 8:26       3.39     17850.0  United Kingdom  \n",
       "4  12/1/2010 8:26       3.39     17850.0  United Kingdom  \n",
       "5  12/1/2010 8:26       7.65     17850.0  United Kingdom  \n",
       "6  12/1/2010 8:26       4.25     17850.0  United Kingdom  \n",
       "7  12/1/2010 8:28       1.85     17850.0  United Kingdom  \n",
       "8  12/1/2010 8:28       1.85     17850.0  United Kingdom  \n",
       "9  12/1/2010 8:34       1.69     13047.0  United Kingdom  "
      ]
     },
     "execution_count": 2,
     "metadata": {},
     "output_type": "execute_result"
    }
   ],
   "source": [
    "#uploads data into dataframe, df, and looks at first 10 entries\n",
    "df = pd.read_csv('data.csv', encoding = \"ISO-8859-1\")\n",
    "df.head(10)"
   ]
  },
  {
   "cell_type": "markdown",
   "metadata": {},
   "source": [
    "## Exploratory Data Analysis\n",
    "\n",
    "We have a 541,909 x 8 dataset. The **8 features** include:\n",
    "1. Invoice Number\n",
    "2. Stock Code\n",
    "3. Description (of item)\n",
    "4. Quantity (purchased)\n",
    "5. Invoice Date\n",
    "6. Unit Price\n",
    "7. Customer ID\n",
    "8. Country (of purchase)\n",
    "\n",
    "There are **missing values** in the Description as well as Customer ID columns. The first code snippet below is what that looks like. After removing these entries with missing values, we have 8 columns with 406,829 entries. There are also duplicated entries (5,268). After removing those, we have 401,604 entries left. \n",
    "\n",
    " **Customers are from** :\n",
    "1. UK\n",
    "2. Germany \n",
    "3. France\n",
    "4. Ireland\n",
    "5. Spain \n",
    "\n",
    "(among others) and this dataset contains the activities of **4,372 different customers**. \n",
    "\n",
    "**The unit prices of the items sold range from  \\\\$0 to \\\\$649.50.** The latter price can be verified with the following code: df[[y.isnumeric() for y in df['StockCode']] & (df.UnitPrice > 300)]. Many of the unit prices higher than \\\\$649.50 (or in the negative) are for postage or manual adjustments (perhaps due to refunds). The majority of the unit prices are under \\\\$4. \n",
    "\n",
    "The **most popular items** purchased were:\n",
    "1. White Hanging Heart T-Light Holder\n",
    "2. Regency Cakestand 3-Tier\n",
    "3. Jumbo Bag Red Retrospot\n",
    "\n",
    "To get a sense of what kind of items are being purchased, let's look at the words most frequency used in the description column. (Here, I will only look at the distinct item names in the Description column.)\n",
    "\n",
    "The **top words** in the description are:\n",
    "1. set\n",
    "2. pink\n",
    "3. heart\n",
    "4. blue\n",
    "5. vintage\n",
    "\n",
    "(All this information can be found by running the code below.)"
   ]
  },
  {
   "cell_type": "code",
   "execution_count": 3,
   "metadata": {},
   "outputs": [
    {
     "name": "stdout",
     "output_type": "stream",
     "text": [
      "<class 'pandas.core.frame.DataFrame'>\n",
      "RangeIndex: 541909 entries, 0 to 541908\n",
      "Data columns (total 8 columns):\n",
      "InvoiceNo      541909 non-null object\n",
      "StockCode      541909 non-null object\n",
      "Description    540455 non-null object\n",
      "Quantity       541909 non-null int64\n",
      "InvoiceDate    541909 non-null object\n",
      "UnitPrice      541909 non-null float64\n",
      "CustomerID     406829 non-null float64\n",
      "Country        541909 non-null object\n",
      "dtypes: float64(2), int64(1), object(5)\n",
      "memory usage: 33.1+ MB\n"
     ]
    }
   ],
   "source": [
    "df.info()"
   ]
  },
  {
   "cell_type": "code",
   "execution_count": 4,
   "metadata": {},
   "outputs": [
    {
     "data": {
      "text/html": [
       "<div>\n",
       "<style scoped>\n",
       "    .dataframe tbody tr th:only-of-type {\n",
       "        vertical-align: middle;\n",
       "    }\n",
       "\n",
       "    .dataframe tbody tr th {\n",
       "        vertical-align: top;\n",
       "    }\n",
       "\n",
       "    .dataframe thead th {\n",
       "        text-align: right;\n",
       "    }\n",
       "</style>\n",
       "<table border=\"1\" class=\"dataframe\">\n",
       "  <thead>\n",
       "    <tr style=\"text-align: right;\">\n",
       "      <th></th>\n",
       "      <th>InvoiceNo</th>\n",
       "      <th>StockCode</th>\n",
       "      <th>Description</th>\n",
       "      <th>Quantity</th>\n",
       "      <th>InvoiceDate</th>\n",
       "      <th>UnitPrice</th>\n",
       "      <th>CustomerID</th>\n",
       "      <th>Country</th>\n",
       "    </tr>\n",
       "  </thead>\n",
       "  <tbody>\n",
       "    <tr>\n",
       "      <th>622</th>\n",
       "      <td>536414</td>\n",
       "      <td>22139</td>\n",
       "      <td>NaN</td>\n",
       "      <td>56</td>\n",
       "      <td>12/1/2010 11:52</td>\n",
       "      <td>0.00</td>\n",
       "      <td>NaN</td>\n",
       "      <td>United Kingdom</td>\n",
       "    </tr>\n",
       "    <tr>\n",
       "      <th>1443</th>\n",
       "      <td>536544</td>\n",
       "      <td>21773</td>\n",
       "      <td>DECORATIVE ROSE BATHROOM BOTTLE</td>\n",
       "      <td>1</td>\n",
       "      <td>12/1/2010 14:32</td>\n",
       "      <td>2.51</td>\n",
       "      <td>NaN</td>\n",
       "      <td>United Kingdom</td>\n",
       "    </tr>\n",
       "    <tr>\n",
       "      <th>1444</th>\n",
       "      <td>536544</td>\n",
       "      <td>21774</td>\n",
       "      <td>DECORATIVE CATS BATHROOM BOTTLE</td>\n",
       "      <td>2</td>\n",
       "      <td>12/1/2010 14:32</td>\n",
       "      <td>2.51</td>\n",
       "      <td>NaN</td>\n",
       "      <td>United Kingdom</td>\n",
       "    </tr>\n",
       "    <tr>\n",
       "      <th>1445</th>\n",
       "      <td>536544</td>\n",
       "      <td>21786</td>\n",
       "      <td>POLKADOT RAIN HAT</td>\n",
       "      <td>4</td>\n",
       "      <td>12/1/2010 14:32</td>\n",
       "      <td>0.85</td>\n",
       "      <td>NaN</td>\n",
       "      <td>United Kingdom</td>\n",
       "    </tr>\n",
       "    <tr>\n",
       "      <th>1446</th>\n",
       "      <td>536544</td>\n",
       "      <td>21787</td>\n",
       "      <td>RAIN PONCHO RETROSPOT</td>\n",
       "      <td>2</td>\n",
       "      <td>12/1/2010 14:32</td>\n",
       "      <td>1.66</td>\n",
       "      <td>NaN</td>\n",
       "      <td>United Kingdom</td>\n",
       "    </tr>\n",
       "  </tbody>\n",
       "</table>\n",
       "</div>"
      ],
      "text/plain": [
       "     InvoiceNo StockCode                      Description  Quantity  \\\n",
       "622     536414     22139                              NaN        56   \n",
       "1443    536544     21773  DECORATIVE ROSE BATHROOM BOTTLE         1   \n",
       "1444    536544     21774  DECORATIVE CATS BATHROOM BOTTLE         2   \n",
       "1445    536544     21786               POLKADOT RAIN HAT          4   \n",
       "1446    536544     21787            RAIN PONCHO RETROSPOT         2   \n",
       "\n",
       "          InvoiceDate  UnitPrice  CustomerID         Country  \n",
       "622   12/1/2010 11:52       0.00         NaN  United Kingdom  \n",
       "1443  12/1/2010 14:32       2.51         NaN  United Kingdom  \n",
       "1444  12/1/2010 14:32       2.51         NaN  United Kingdom  \n",
       "1445  12/1/2010 14:32       0.85         NaN  United Kingdom  \n",
       "1446  12/1/2010 14:32       1.66         NaN  United Kingdom  "
      ]
     },
     "execution_count": 4,
     "metadata": {},
     "output_type": "execute_result"
    }
   ],
   "source": [
    "#looks at entries with NaN entries\n",
    "df[pd.isna(df['CustomerID'])].head()"
   ]
  },
  {
   "cell_type": "code",
   "execution_count": 5,
   "metadata": {},
   "outputs": [
    {
     "data": {
      "text/plain": [
       "5268"
      ]
     },
     "execution_count": 5,
     "metadata": {},
     "output_type": "execute_result"
    }
   ],
   "source": [
    "#checks number of rows are duplicates\n",
    "df.duplicated().sum()"
   ]
  },
  {
   "cell_type": "code",
   "execution_count": 6,
   "metadata": {},
   "outputs": [
    {
     "name": "stdout",
     "output_type": "stream",
     "text": [
      "<class 'pandas.core.frame.DataFrame'>\n",
      "Int64Index: 401604 entries, 0 to 541908\n",
      "Data columns (total 8 columns):\n",
      "InvoiceNo      401604 non-null object\n",
      "StockCode      401604 non-null object\n",
      "Description    401604 non-null object\n",
      "Quantity       401604 non-null int64\n",
      "InvoiceDate    401604 non-null object\n",
      "UnitPrice      401604 non-null float64\n",
      "CustomerID     401604 non-null float64\n",
      "Country        401604 non-null object\n",
      "dtypes: float64(2), int64(1), object(5)\n",
      "memory usage: 27.6+ MB\n"
     ]
    }
   ],
   "source": [
    "#discards rows that have NaN values or are duplicates\n",
    "df.dropna(inplace = True)\n",
    "df.drop_duplicates(inplace = True)\n",
    "df.info()"
   ]
  },
  {
   "cell_type": "code",
   "execution_count": 7,
   "metadata": {},
   "outputs": [
    {
     "data": {
      "text/plain": [
       "United Kingdom    356728\n",
       "Germany             9480\n",
       "France              8475\n",
       "EIRE                7475\n",
       "Spain               2528\n",
       "Name: Country, dtype: int64"
      ]
     },
     "execution_count": 7,
     "metadata": {},
     "output_type": "execute_result"
    }
   ],
   "source": [
    "#lists customers' countries of origin\n",
    "df['Country'].value_counts().head()"
   ]
  },
  {
   "cell_type": "code",
   "execution_count": 8,
   "metadata": {},
   "outputs": [
    {
     "data": {
      "text/plain": [
       "4372"
      ]
     },
     "execution_count": 8,
     "metadata": {},
     "output_type": "execute_result"
    }
   ],
   "source": [
    "#retrieves number of unique customers\n",
    "df['CustomerID'].nunique()"
   ]
  },
  {
   "cell_type": "code",
   "execution_count": 9,
   "metadata": {},
   "outputs": [
    {
     "data": {
      "text/plain": [
       "count    366179.000000\n",
       "mean          2.927796\n",
       "std           4.558911\n",
       "min           0.000000\n",
       "25%           1.250000\n",
       "50%           1.850000\n",
       "75%           3.750000\n",
       "max         649.500000\n",
       "Name: UnitPrice, dtype: float64"
      ]
     },
     "execution_count": 9,
     "metadata": {},
     "output_type": "execute_result"
    }
   ],
   "source": [
    "#distribution of unit prices on gifts (and not on postage or manual entries)\n",
    "df[[y.isnumeric() for y in df['StockCode']] & (df.UnitPrice <= 649.50)]['UnitPrice'].describe()"
   ]
  },
  {
   "cell_type": "code",
   "execution_count": 10,
   "metadata": {},
   "outputs": [
    {
     "data": {
      "text/plain": [
       "WHITE HANGING HEART T-LIGHT HOLDER    2058\n",
       "REGENCY CAKESTAND 3 TIER              1894\n",
       "JUMBO BAG RED RETROSPOT               1659\n",
       "PARTY BUNTING                         1409\n",
       "ASSORTED COLOUR BIRD ORNAMENT         1405\n",
       "Name: Description, dtype: int64"
      ]
     },
     "execution_count": 10,
     "metadata": {},
     "output_type": "execute_result"
    }
   ],
   "source": [
    "#top 5 purchased gift items\n",
    "df['Description'].value_counts().head()"
   ]
  },
  {
   "cell_type": "code",
   "execution_count": 11,
   "metadata": {},
   "outputs": [
    {
     "data": {
      "image/png": "[encoded data removed]",
      "text/plain": [
       "<Figure size 432x288 with 1 Axes>"
      ]
     },
     "metadata": {
      "needs_background": "light"
     },
     "output_type": "display_data"
    }
   ],
   "source": [
    "#selects unique description/items, separates into words\n",
    "gifts = list(set(df.Description))\n",
    "tokenizer = nltk.tokenize.RegexpTokenizer('\\w+')\n",
    "stor =[]\n",
    "\n",
    "for word in gifts:\n",
    "    stor.append(str(word).lower())\n",
    "    \n",
    "text = ' '.join(stor)\n",
    "tokens = tokenizer.tokenize(text)\n",
    "sw = stopwords.words('english')\n",
    "\n",
    "#stores words that are not stop words\n",
    "stor_sw = []\n",
    "for word in tokens:\n",
    "    if word not in sw:\n",
    "        stor_sw.append(word)    \n",
    "\n",
    "#show word frequency plot\n",
    "freqdist = nltk.FreqDist(stor_sw)\n",
    "freqdist.plot(25)"
   ]
  },
  {
   "cell_type": "markdown",
   "metadata": {},
   "source": [
    "## Cohort Analysis: Retention \n",
    "\n",
    "Let's move on to analyzing customer activity based on their months of purchases. The dataset is split into cohorts. The cohort month refers to the month of their first purchase. The cohort index of each purchase refers to the months (rounded up) since that customer's first purchase.\n",
    "\n",
    "The **heatmap** shows the percentage of customers that have continued to purchase from the company. So, for example, let's look at the first cohort month of 12/2010. The group with cohort index 1 has a retention of 100% because December 2010 is the month of their first purchase. The retention of this group in the following month is 38%, meaning 38% of the customers who have made their first purchase in 12/2010 have also made a purchase in 1/2011. \n",
    "\n",
    "The **highest retention percentage is 50%**, meaning 50% of customers who made their first purchase in 12/2010 have also made purchases in 12/2011 (It could be because of the holidays)."
   ]
  },
  {
   "cell_type": "code",
   "execution_count": 12,
   "metadata": {},
   "outputs": [],
   "source": [
    "#convert to datetime format\n",
    "df['InvoiceDate'] = pd.to_datetime(df['InvoiceDate'])"
   ]
  },
  {
   "cell_type": "code",
   "execution_count": 13,
   "metadata": {},
   "outputs": [],
   "source": [
    "#function retrieves year, month, date without the hr/min/sec\n",
    "def get_day(x): return datetime(x.year, x.month, x.day) \n",
    "df['InvoiceDay'] = df['InvoiceDate'].apply(get_day) \n",
    "\n",
    "#finds date of first purchase of each customer\n",
    "grouping = df.groupby('CustomerID')['InvoiceDay'] \n",
    "df['CohortDay'] = grouping.transform('min')"
   ]
  },
  {
   "cell_type": "code",
   "execution_count": 14,
   "metadata": {},
   "outputs": [],
   "source": [
    "#function separates the year, month, date from date column (from Karolis Urbonas's course)\n",
    "def get_date_int(df, column):\n",
    "    year = df[column].dt.year\n",
    "    month = df[column].dt.month\n",
    "    day = df[column].dt.day\n",
    "    return year, month, day"
   ]
  },
  {
   "cell_type": "code",
   "execution_count": 15,
   "metadata": {},
   "outputs": [],
   "source": [
    "#stores year, month, date of invoice and cohort dates\n",
    "invoice_year, invoice_month, invoice_day = get_date_int(df, 'InvoiceDay')\n",
    "cohort_year, cohort_month, cohort_day = get_date_int(df, 'CohortDay')"
   ]
  },
  {
   "cell_type": "code",
   "execution_count": 16,
   "metadata": {},
   "outputs": [],
   "source": [
    "#sets cohort index as months (can be changed to days by changing the last line)\n",
    "years_diff = invoice_year - cohort_year\n",
    "months_diff = invoice_month - cohort_month\n",
    "days_diff = invoice_day - cohort_day\n",
    "df['CohortIndex'] = years_diff * 12 + months_diff + 1"
   ]
  },
  {
   "cell_type": "code",
   "execution_count": 17,
   "metadata": {},
   "outputs": [],
   "source": [
    "#change format of date/month (invoice and cohort month to first of the month)\n",
    "df['InvoiceMonth'] = df['InvoiceDay'].values.astype('datetime64[M]')\n",
    "df['CohortMonth'] = df['CohortDay'].values.astype('datetime64[M]')\n",
    "df['CohortMonth'] = df['CohortMonth'].dt.strftime('%Y-%m-%d')"
   ]
  },
  {
   "cell_type": "code",
   "execution_count": 26,
   "metadata": {},
   "outputs": [
    {
     "data": {
      "image/png": "[encoded data removed]",
      "text/plain": [
       "<Figure size 576x432 with 2 Axes>"
      ]
     },
     "metadata": {
      "needs_background": "light"
     },
     "output_type": "display_data"
    }
   ],
   "source": [
    "#calculate customer retention by cohort month (by counting number of unique customers per month per index)\n",
    "cohort_number = df.groupby(['CohortMonth', 'CohortIndex'])['CustomerID'].apply(pd.Series.nunique).reset_index()\n",
    "number_pivot = cohort_number.pivot(index='CohortMonth', columns='CohortIndex', values='CustomerID')\n",
    "max_size = number_pivot.iloc[:,0]\n",
    "retention = number_pivot.divide(max_size, axis=0)\n",
    "\n",
    "plt.figure(figsize=(8, 6))\n",
    "plt.title('Customer Retention by Monthly Cohorts')\n",
    "sns.heatmap(retention, annot=True, fmt = '.0%',cmap='Blues')\n",
    "plt.show()"
   ]
  },
  {
   "cell_type": "markdown",
   "metadata": {},
   "source": [
    "## Customer Segmentation using K-Means\n",
    "\n",
    "K-means is a clustering algorithm that identifies which rows of data belong to which of the k-clusters. In other words, the algorithm groups the data into k clusters, in which k is specified by the user. The **elbow method** can be used to find the appropriate k.\n",
    "\n",
    "To analyze the above customer data some more, we look at:\n",
    "1. Recency: number of days since most recent purchase \n",
    "2. Frequency: number of purchases\n",
    "3. Monetary Value: total cost of purchases (quantity * unit price)\n",
    "\n",
    "This can be found below in the data frame, main, which we obtained by extracting relevant information from the data frame, df.\n",
    "\n",
    "There are 55 customers who have MonetaryValue that is less than or equal to 0. (Note: I put <= 1 because of values on the magnitude of 10e-14.)  The 0 is most likely due to purchasing and then returning. The negative values could refer to damaged/missing items that had to be refunded or they can refer to cancelled purchases. They could also be a result of working with a dataset that's only a snapshot of activity from 12/2010 to 12/2011. For this current exercise of customer segmentation, I will be focusing on **customers with positive Monetary Values.**\n",
    "\n",
    "First, we prep the dataset for the k-means algorithm. This means taking the logarithm of recency, frequency, and monetary values columns and then normalizing (center and scale). Using the elbow method, k values of at least 3 or 4 seem appropriate.\n",
    "\n",
    "After running the k-means algorithm on the data with a **k = 4**, each customer (i.e. each row of the data frame, main) is assign to a cluster. **Averaging the recency, frequency, and monetary values by cluster**, we obtain our final table.\n",
    "\n",
    "Customers in:\n",
    "1. Cluster 0 - purchased recently, with some average frequency, with moderate average spending\n",
    "2. Cluster 1 - have not purchased recently, who purchase rarely, with the least average spending\n",
    "3. Cluster 2 - purchased somewhat recently, at moderate frequency, with the second highest average spending\n",
    "4. Cluster 3 - purchased recently, with the highest average frequency, with the highest average spending\n",
    "\n",
    "These kinds of analysis are handy in identifying the kinds of consumer behavior a particular customer exhibits. They can then give insights into which customers would respond favorably to marketing campaigns, for example."
   ]
  },
  {
   "cell_type": "code",
   "execution_count": 19,
   "metadata": {},
   "outputs": [],
   "source": [
    "#creates the total amount of purchase\n",
    "df['Total'] = df['UnitPrice']*df['Quantity']\n",
    "#sets the current date for recency calculation\n",
    "r_date = pd.Timestamp(2011,12,10,13)"
   ]
  },
  {
   "cell_type": "code",
   "execution_count": 20,
   "metadata": {},
   "outputs": [],
   "source": [
    "#calculates recency, freqency and monetary value from df data frame\n",
    "main = df.groupby(['CustomerID']).agg({\n",
    "    'InvoiceDate': lambda x: (r_date - x.max()).days,\n",
    "    'InvoiceNo': 'count',\n",
    "    'Total': 'sum'})\n",
    "\n",
    "main.rename(columns={'InvoiceDate': 'Recency',\n",
    "                         'InvoiceNo': 'Frequency',\n",
    "                         'Total': 'MonetaryValue'}, inplace=True)"
   ]
  },
  {
   "cell_type": "code",
   "execution_count": 21,
   "metadata": {},
   "outputs": [
    {
     "data": {
      "text/plain": [
       "55"
      ]
     },
     "execution_count": 21,
     "metadata": {},
     "output_type": "execute_result"
    }
   ],
   "source": [
    "#calculates how many customers have total = 0 (<=1 for entries like 10e-14)\n",
    "sum(main.MonetaryValue <= 1)"
   ]
  },
  {
   "cell_type": "code",
   "execution_count": 22,
   "metadata": {},
   "outputs": [],
   "source": [
    "#new data frame to look at customers with only positive totals\n",
    "newmain = main[main.MonetaryValue > 1]\n",
    "\n",
    "#log the columns\n",
    "newmain_log = np.log(newmain)\n",
    "\n",
    "#center and scale columns\n",
    "scaler = StandardScaler(); scaler.fit(newmain_log)\n",
    "\n",
    "newmain_normalized = scaler.transform(newmain_log)"
   ]
  },
  {
   "cell_type": "code",
   "execution_count": 23,
   "metadata": {},
   "outputs": [
    {
     "data": {
      "image/png": "[encoded data removed]",
      "text/plain": [
       "<Figure size 432x288 with 1 Axes>"
      ]
     },
     "metadata": {
      "needs_background": "light"
     },
     "output_type": "display_data"
    }
   ],
   "source": [
    "#elbow method by running through possible k values and recording sse (sum of squares distances)\n",
    "sse = {}\n",
    "for k in range(1, 11):\n",
    "    \n",
    "    kmeans = KMeans(n_clusters=k, random_state=1).fit(newmain_normalized)\n",
    "\n",
    "    sse[k] = kmeans.inertia_  \n",
    "\n",
    "plt.title('The Elbow Method'); plt.xlabel('k'); plt.ylabel('SSE')\n",
    "sns.pointplot(x=list(sse.keys()), y=list(sse.values()))\n",
    "plt.show()"
   ]
  },
  {
   "cell_type": "code",
   "execution_count": 24,
   "metadata": {},
   "outputs": [],
   "source": [
    "#k-means clustering algorithm with k=4\n",
    "kmeans = KMeans(n_clusters=4, random_state=1) \n",
    "kmeans.fit(newmain_normalized)\n",
    "cluster_labels = kmeans.labels_"
   ]
  },
  {
   "cell_type": "code",
   "execution_count": 25,
   "metadata": {},
   "outputs": [
    {
     "data": {
      "text/html": [
       "<div>\n",
       "<style scoped>\n",
       "    .dataframe tbody tr th:only-of-type {\n",
       "        vertical-align: middle;\n",
       "    }\n",
       "\n",
       "    .dataframe tbody tr th {\n",
       "        vertical-align: top;\n",
       "    }\n",
       "\n",
       "    .dataframe thead th {\n",
       "        text-align: right;\n",
       "    }\n",
       "</style>\n",
       "<table border=\"1\" class=\"dataframe\">\n",
       "  <thead>\n",
       "    <tr style=\"text-align: right;\">\n",
       "      <th></th>\n",
       "      <th>Recency</th>\n",
       "      <th>Frequency</th>\n",
       "      <th>MonetaryValue</th>\n",
       "    </tr>\n",
       "    <tr>\n",
       "      <th>Cluster</th>\n",
       "      <th></th>\n",
       "      <th></th>\n",
       "      <th></th>\n",
       "    </tr>\n",
       "  </thead>\n",
       "  <tbody>\n",
       "    <tr>\n",
       "      <th>0</th>\n",
       "      <td>17.67</td>\n",
       "      <td>39.95</td>\n",
       "      <td>605.23</td>\n",
       "    </tr>\n",
       "    <tr>\n",
       "      <th>1</th>\n",
       "      <td>180.25</td>\n",
       "      <td>15.35</td>\n",
       "      <td>282.06</td>\n",
       "    </tr>\n",
       "    <tr>\n",
       "      <th>2</th>\n",
       "      <td>91.96</td>\n",
       "      <td>81.29</td>\n",
       "      <td>1354.59</td>\n",
       "    </tr>\n",
       "    <tr>\n",
       "      <th>3</th>\n",
       "      <td>11.65</td>\n",
       "      <td>287.93</td>\n",
       "      <td>6713.74</td>\n",
       "    </tr>\n",
       "  </tbody>\n",
       "</table>\n",
       "</div>"
      ],
      "text/plain": [
       "         Recency  Frequency  MonetaryValue\n",
       "Cluster                                   \n",
       "0          17.67      39.95         605.23\n",
       "1         180.25      15.35         282.06\n",
       "2          91.96      81.29        1354.59\n",
       "3          11.65     287.93        6713.74"
      ]
     },
     "execution_count": 25,
     "metadata": {},
     "output_type": "execute_result"
    }
   ],
   "source": [
    "#assigns cluster number to customer\n",
    "newmain_clusters = newmain.assign(Cluster=cluster_labels)\n",
    "\n",
    "#find average recency, frequency, monetary values for each cluster\n",
    "newmain_clusters.groupby(['Cluster']).agg({\n",
    "    'Recency': 'mean',\n",
    "    'Frequency': 'mean',\n",
    "    'MonetaryValue': 'mean'\n",
    "  }).round(2)"
   ]
  }
 ],
 "metadata": {
  "kernelspec": {
   "display_name": "Python 3",
   "language": "python",
   "name": "python3"
  },
  "language_info": {
   "codemirror_mode": {
    "name": "ipython",
    "version": 3
   },
   "file_extension": ".py",
   "mimetype": "text/x-python",
   "name": "python",
   "nbconvert_exporter": "python",
   "pygments_lexer": "ipython3",
   "version": "3.6.7"
  }
 },
 "nbformat": 4,
 "nbformat_minor": 2
}
